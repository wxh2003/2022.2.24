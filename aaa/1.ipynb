{
 "cells": [
  {
   "cell_type": "code",
   "execution_count": 6,
   "metadata": {},
   "outputs": [],
   "source": [
    "from bs4 import BeautifulSoup\n",
    "html=\"\"\"\n",
    "<html>\n",
    "\t<head>\n",
    "\t\t<title>The DorMouse's story</title>\n",
    "\t<head>\n",
    "\t<body>\n",
    "\t\t<p class=\"title\" name=\"dormouse\"><b>The DorMouse’s  aaaaaa story </b></p>\n",
    "\t\t<p class=\"story\">\n",
    "\t\t<a href=\"http://example.com/elsie\" class=\"sister\" id=\"link1\">Elsie</a>\n",
    "\t\t<a href=\"http://example.com/lacie\" class=\"sister\" id=\"link2\">Lacie</a> and\n",
    "\t\t<a href=\"http://example.com/title\" class=\"sister\" id=\"link3\">title</a>\n",
    "\t\tand they lived at the bottom of well.</p>\n",
    "\t\t<p class=\"story\">...</p>\n",
    "\"\"\"\n",
    "soup=BeautifulSoup(html,'lxml')"
   ]
  },
  {
   "cell_type": "code",
   "execution_count": 7,
   "metadata": {},
   "outputs": [
    {
     "data": {
      "text/plain": [
       "[<a class=\"sister\" href=\"http://example.com/lacie\" id=\"link2\">Lacie</a>]"
      ]
     },
     "execution_count": 7,
     "metadata": {},
     "output_type": "execute_result"
    }
   ],
   "source": [
    "soup.find_all(id='link2')"
   ]
  },
  {
   "cell_type": "code",
   "execution_count": 8,
   "metadata": {},
   "outputs": [
    {
     "data": {
      "text/plain": [
       "[<a class=\"sister\" href=\"http://example.com/elsie\" id=\"link1\">Elsie</a>]"
      ]
     },
     "execution_count": 8,
     "metadata": {},
     "output_type": "execute_result"
    }
   ],
   "source": [
    "import re \n",
    "soup.find_all(href=re.compile(\"elsie\"),id='link1')"
   ]
  },
  {
   "cell_type": "code",
   "execution_count": 9,
   "metadata": {},
   "outputs": [
    {
     "data": {
      "text/plain": [
       "[<a class=\"sister\" href=\"http://example.com/elsie\" id=\"link1\">Elsie</a>,\n",
       " <a class=\"sister\" href=\"http://example.com/lacie\" id=\"link2\">Lacie</a>,\n",
       " <a class=\"sister\" href=\"http://example.com/title\" id=\"link3\">title</a>]"
      ]
     },
     "execution_count": 9,
     "metadata": {},
     "output_type": "execute_result"
    }
   ],
   "source": [
    "soup.find_all(\"a\",class_=\"sister\")"
   ]
  },
  {
   "cell_type": "code",
   "execution_count": 10,
   "metadata": {},
   "outputs": [
    {
     "name": "stdout",
     "output_type": "stream",
     "text": [
      "[<a class=\"sister\" href=\"http://example.com/elsie\" id=\"link1\">Elsie</a>, <a class=\"sister\" href=\"http://example.com/lacie\" id=\"link2\">Lacie</a>, <a class=\"sister\" href=\"http://example.com/title\" id=\"link3\">title</a>]\n"
     ]
    }
   ],
   "source": [
    "data_soup=soup.find_all(attrs={\"class\":\"sister\"})\n",
    "print(data_soup)"
   ]
  },
  {
   "cell_type": "code",
   "execution_count": 11,
   "metadata": {},
   "outputs": [
    {
     "name": "stdout",
     "output_type": "stream",
     "text": [
      "[<p class=\"title\" name=\"dormouse\"><b>The DorMouse’s  aaaaaa story </b></p>]\n"
     ]
    }
   ],
   "source": [
    "data_soup=soup.find_all(attrs={\"name\":\"dormouse\"})\n",
    "print(data_soup)"
   ]
  },
  {
   "cell_type": "code",
   "execution_count": 12,
   "metadata": {},
   "outputs": [
    {
     "data": {
      "text/plain": [
       "[<a class=\"sister\" href=\"http://example.com/elsie\" id=\"link1\">Elsie</a>,\n",
       " <a class=\"sister\" href=\"http://example.com/lacie\" id=\"link2\">Lacie</a>]"
      ]
     },
     "execution_count": 12,
     "metadata": {},
     "output_type": "execute_result"
    }
   ],
   "source": [
    "soup.find_all(\"a\",limit=2)"
   ]
  },
  {
   "cell_type": "code",
   "execution_count": 13,
   "metadata": {},
   "outputs": [
    {
     "data": {
      "text/plain": [
       "[<title>The DorMouse's story</title>]"
      ]
     },
     "execution_count": 13,
     "metadata": {},
     "output_type": "execute_result"
    }
   ],
   "source": [
    "soup.html.find_all(\"title\")"
   ]
  },
  {
   "cell_type": "code",
   "execution_count": 14,
   "metadata": {},
   "outputs": [
    {
     "name": "stdout",
     "output_type": "stream",
     "text": [
      "<class 'bs4.element.NavigableString'>\n",
      "Elsie\n",
      "<a class=\"sister\" href=\"http://example.com/elsie\" id=\"link1\">Elsie</a>\n",
      "http://example.com/elsie\n"
     ]
    }
   ],
   "source": [
    "aa=soup.find_all(text=\"Elsie\")[0]\n",
    "print(type(aa))\n",
    "print(aa)\n",
    "print(aa.findParent())\n",
    "print(aa.findParent().get('href'))"
   ]
  },
  {
   "cell_type": "code",
   "execution_count": null,
   "metadata": {},
   "outputs": [],
   "source": []
  },
  {
   "cell_type": "code",
   "execution_count": null,
   "metadata": {},
   "outputs": [],
   "source": []
  },
  {
   "cell_type": "code",
   "execution_count": 5,
   "metadata": {},
   "outputs": [],
   "source": [
    "import requests\n",
    "from bs4 import BeautifulSoup\n",
    "url=\"https://www.zjitc.net/xwzx/xyxw.htm\"\n",
    "response=requests.get(url)\n",
    "response.encoding=response.apparent_encoding\n",
    "html=response.text\n",
    "# print(html)\n",
    "soup=BeautifulSoup(html,'lxml')"
   ]
  },
  {
   "cell_type": "code",
   "execution_count": 6,
   "metadata": {},
   "outputs": [
    {
     "name": "stdout",
     "output_type": "stream",
     "text": [
      "../info/1013/51999.htm\n",
      "../info/1013/51992.htm\n",
      "../info/1013/51976.htm\n",
      "../info/1013/51955.htm\n",
      "../info/1013/51954.htm\n",
      "../info/1013/51943.htm\n",
      "../info/1013/51927.htm\n",
      "../info/1013/51924.htm\n",
      "8\n"
     ]
    }
   ],
   "source": [
    "import re\n",
    "result=soup.find_all('li',id=re.compile('line_u'))\n",
    "for x in result:\n",
    "    print(x.find('a').get('href'))\n",
    "print(len(result))"
   ]
  },
  {
   "cell_type": "code",
   "execution_count": 8,
   "metadata": {},
   "outputs": [
    {
     "name": "stdout",
     "output_type": "stream",
     "text": [
      "['http://www.zjitc.net/info/1013/51999.htm', 'http://www.zjitc.net/info/1013/51992.htm', 'http://www.zjitc.net/info/1013/51976.htm', 'http://www.zjitc.net/info/1013/51955.htm', 'http://www.zjitc.net/info/1013/51954.htm', 'http://www.zjitc.net/info/1013/51943.htm', 'http://www.zjitc.net/info/1013/51927.htm', 'http://www.zjitc.net/info/1013/51924.htm']\n"
     ]
    }
   ],
   "source": [
    "import re\n",
    "from urllib.parse import urljoin\n",
    "result=soup.find_all('div',class_='right-1')[0].find_all('a',href=re.compile('info'))\n",
    "urls=[]\n",
    "for x in result:\n",
    "    urls.append(urljoin(\"http://www.zjitc.net\",x.get('href')))\n",
    "# print(len(result))\n",
    "print(urls)"
   ]
  },
  {
   "cell_type": "code",
   "execution_count": 18,
   "metadata": {},
   "outputs": [
    {
     "data": {
      "text/plain": [
       "[<h2>我校代表队在杭钢十届职运会乒乓球赛中喜获佳绩</h2>]"
      ]
     },
     "execution_count": 18,
     "metadata": {},
     "output_type": "execute_result"
    }
   ],
   "source": []
  },
  {
   "cell_type": "code",
   "execution_count": 32,
   "metadata": {},
   "outputs": [
    {
     "name": "stdout",
     "output_type": "stream",
     "text": [
      "我校代表队在杭钢十届职运会乒乓球赛中喜获佳绩\n",
      "作者：院工会  来源：院工会\r\n",
      " \n",
      "发布时间：2021/11/02 10:31:44  浏览：\n",
      "10月28日、29日，我校工会主席，党委副书记倪建发带队、陈依凡老师担任教练，带领徐剑敏、陈新开、陈贤文、刘维先、郑莉晓等教师组成的乒乓球代表队，赴绍兴参加浙江工业职业技术学院承办的杭钢集团公司第十届职工体育运动会乒乓球比赛。此次比赛共有杭钢集团下属十八家单位，近百人组队参加，经过两天紧张激烈的角逐，我校代表队获得团体第四名，徐剑敏老师获得男单亚军、刘维先老师获得女单季军。倪主席既是参赛运动员，又积极参与场上指导，和陈依凡老师一起，悉心指导队员，安排战术，大大提高了全体队员的应战能力和团队信心。通过此次比赛，不仅与杭钢所属单位的优秀选手进行了友好的交流，赛出了水平，赛出了风格，也充分展现了工贸人不畏强手顽强拼搏、团结合作的精神。\n"
     ]
    }
   ],
   "source": [
    "import requests\n",
    "from bs4 import BeautifulSoup\n",
    "url=\"https://www.zjitc.net/info/1013/51999.htm\"\n",
    "response=requests.get(url)\n",
    "response.encoding=response.apparent_encoding\n",
    "html=response.text\n",
    "# print(html)\n",
    "soup=BeautifulSoup(html,'lxml')\n",
    "\n",
    "title=soup.find(\"h2\").get_text()\n",
    "author=soup.find(\"div\",class_=\"zz\").get_text()\n",
    "time=soup.find_all(\"div\",class_=\"zz\")[1].get_text().strip()\n",
    "content=soup.find(\"div\",id='vsb_content').find_all('p')\n",
    "aa=[]\n",
    "for x in content:\n",
    "    if x.get_text().strip()!=\"\":\n",
    "        aa.append(x.get_text().strip())\n",
    "        \n",
    "article=''.join(x for x in aa)\n",
    "print(title)\n",
    "print(author)\n",
    "print(time)\n",
    "print(article)"
   ]
  },
  {
   "cell_type": "code",
   "execution_count": 15,
   "metadata": {},
   "outputs": [
    {
     "data": {
      "text/plain": [
       "[<div class=\"zz\">作者：院工会  来源：院工会\n",
       "  </div>,\n",
       " <div class=\"zz\">  发布时间：2021/11/02 10:31:44  浏览：<script>_showDynClicks(\"wbnews\", 1207641073, 51997)</script></div>]"
      ]
     },
     "execution_count": 15,
     "metadata": {},
     "output_type": "execute_result"
    }
   ],
   "source": []
  },
  {
   "cell_type": "code",
   "execution_count": null,
   "metadata": {},
   "outputs": [],
   "source": []
  }
 ],
 "metadata": {
  "kernelspec": {
   "display_name": "Python 3",
   "language": "python",
   "name": "python3"
  },
  "language_info": {
   "codemirror_mode": {
    "name": "ipython",
    "version": 3
   },
   "file_extension": ".py",
   "mimetype": "text/x-python",
   "name": "python",
   "nbconvert_exporter": "python",
   "pygments_lexer": "ipython3",
   "version": "3.8.3"
  }
 },
 "nbformat": 4,
 "nbformat_minor": 4
}
