{
 "cells": [
  {
   "cell_type": "code",
   "execution_count": 1,
   "metadata": {},
   "outputs": [],
   "source": [
    "from bs4 import BeautifulSoup\n",
    "import re\n",
    "html=\"\"\"\n",
    "<html>\n",
    "\t<head>\n",
    "\t\t<title>The DorMouse's story</title>\n",
    "\t<head>\n",
    "\t<body>\n",
    "\t\t<p class=\"title\" name=\"dormouse\"><b>The DorMouse’s  aaaaaa story </b></p>\n",
    "\t\t<p class=\"story\">\n",
    "\t\t<a href=\"http://example.com/elsie\" class=\"sister\" id=\"link1\">Elsie</a>\n",
    "\t\t<a href=\"http://example.com/lacie\" class=\"sister\" id=\"link2\">Lacie</a> and\n",
    "\t\t<a href=\"http://example.com/title\" class=\"sister\" id=\"link3\">title</a>\n",
    "\t\tand they lived at the bottom of well.</p>\n",
    "\t\t<p class=\"story\">...</p>\n",
    "\"\"\"\n",
    "\n",
    "bs=BeautifulSoup(html,'lxml')"
   ]
  },
  {
   "cell_type": "code",
   "execution_count": 2,
   "metadata": {},
   "outputs": [
    {
     "name": "stdout",
     "output_type": "stream",
     "text": [
      "[<title>The DorMouse's story</title>]\n",
      "<class 'bs4.element.ResultSet'>\n",
      "1\n",
      "<class 'bs4.element.Tag'>\n",
      "The DorMouse's story\n",
      "The DorMouse's story\n",
      "title\n"
     ]
    }
   ],
   "source": [
    "result=bs.select(\"title\")\n",
    "print(result)\n",
    "print(type(result))\n",
    "print(len(result))\n",
    "print(type(result[0]))\n",
    "print(result[0].get_text())\n",
    "print(result[0].string)\n",
    "print(result[0].name)"
   ]
  },
  {
   "cell_type": "code",
   "execution_count": 3,
   "metadata": {},
   "outputs": [
    {
     "name": "stdout",
     "output_type": "stream",
     "text": [
      "[<a class=\"sister\" href=\"http://example.com/elsie\" id=\"link1\">Elsie</a>, <a class=\"sister\" href=\"http://example.com/lacie\" id=\"link2\">Lacie</a>, <a class=\"sister\" href=\"http://example.com/title\" id=\"link3\">title</a>]\n"
     ]
    }
   ],
   "source": [
    "result=bs.select('.sister')\n",
    "print(result)"
   ]
  },
  {
   "cell_type": "code",
   "execution_count": 5,
   "metadata": {},
   "outputs": [
    {
     "name": "stdout",
     "output_type": "stream",
     "text": [
      "[<a class=\"sister\" href=\"http://example.com/elsie\" id=\"link1\">Elsie</a>]\n"
     ]
    }
   ],
   "source": [
    "result=bs.select(\"#link1\")\n",
    "print(result)"
   ]
  },
  {
   "cell_type": "code",
   "execution_count": 9,
   "metadata": {},
   "outputs": [
    {
     "name": "stdout",
     "output_type": "stream",
     "text": [
      "[<a class=\"sister\" href=\"http://example.com/lacie\" id=\"link2\">Lacie</a>]\n"
     ]
    }
   ],
   "source": [
    "# result=bs.select('p,#link2')\n",
    "# result=bs.select('p #link2')\n",
    "result=bs.select('head > title')\n",
    "print(result)"
   ]
  },
  {
   "cell_type": "code",
   "execution_count": 7,
   "metadata": {},
   "outputs": [
    {
     "name": "stdout",
     "output_type": "stream",
     "text": [
      "[<a class=\"sister\" href=\"http://example.com/lacie\" id=\"link2\">Lacie</a>]\n",
      "<class 'bs4.element.ResultSet'>\n",
      "1\n"
     ]
    }
   ],
   "source": [
    "result=bs.select('a[href=\"http://example.com/lacie\"]')\n",
    "print(result)\n",
    "print(type(result))\n",
    "print(len(result))"
   ]
  },
  {
   "cell_type": "code",
   "execution_count": 19,
   "metadata": {},
   "outputs": [
    {
     "name": "stdout",
     "output_type": "stream",
     "text": [
      "坚守立德树人使命 聚焦​课程思政建设——我校在2021年浙江省高校课程思政教学改革系列活动中喜获佳绩\n",
      "作者：教务处  来源：教务处\r\n",
      " \n",
      "发布时间：2021/11/08 09:22:59  浏览：\n",
      "\n",
      "11月5日，浙江省高等教育学会发布了《关于公布2021年浙江省高校课程思政教学改革系列活动评奖结果的通知》（浙高教学会〔2021〕15号），我校喜获课程思政教师征文一等奖1篇；课程思政优秀教学案例特等奖1篇，一等奖2篇，二等奖2篇；课程思政优秀教学微课3门。\n",
      "我校历来高度重视课程思政工作，2017年成立省内高职院校第二所马克思主义学院，2018年出台了学院课程思政三年行动计划；2021年出台了新一轮课程思政五年建设实施方案。举办了多期线下线上课程思政教学论坛，实施了课程思政专题研究项目建设工作，培育了一批优秀的课程思政理论研究成果和典型实践案例，汇集出版了《新时代高职课程思政理论与实践》一书；成功入选浙江省课程思政示范校、教育部课程思政示范项目2个、省课程思政示范课程5门等。\n",
      "附：获奖名单\n",
      "\n",
      "\n",
      "\n"
     ]
    }
   ],
   "source": [
    "import requests\n",
    "from bs4 import BeautifulSoup\n",
    "url=\"http://www.zjitc.net/info/1013/52061.htm\"\n",
    "response=requests.get(url)\n",
    "response.encoding=response.apparent_encoding\n",
    "html=response.text\n",
    "# print(html)\n",
    "bs=BeautifulSoup(html,'lxml')\n",
    "title=bs.select(\"h2\")[0].get_text()\n",
    "author=bs.select(\".zz\")[0].get_text()\n",
    "time=bs.select(\".zz\")[1].get_text().strip()\n",
    "content=bs.select(\"#vsb_content\")[0].get_text()\n",
    "print(title)\n",
    "print(author)\n",
    "print(time)\n",
    "print(content)"
   ]
  },
  {
   "cell_type": "code",
   "execution_count": 15,
   "metadata": {},
   "outputs": [
    {
     "name": "stdout",
     "output_type": "stream",
     "text": [
      "[]\n"
     ]
    }
   ],
   "source": []
  },
  {
   "cell_type": "code",
   "execution_count": null,
   "metadata": {},
   "outputs": [],
   "source": []
  }
 ],
 "metadata": {
  "kernelspec": {
   "display_name": "Python 3",
   "language": "python",
   "name": "python3"
  },
  "language_info": {
   "codemirror_mode": {
    "name": "ipython",
    "version": 3
   },
   "file_extension": ".py",
   "mimetype": "text/x-python",
   "name": "python",
   "nbconvert_exporter": "python",
   "pygments_lexer": "ipython3",
   "version": "3.8.3"
  }
 },
 "nbformat": 4,
 "nbformat_minor": 4
}
